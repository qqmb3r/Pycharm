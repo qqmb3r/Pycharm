{
 "cells": [
  {
   "cell_type": "code",
   "execution_count": 33,
   "metadata": {},
   "outputs": [],
   "source": [
    "def funct_even(a):\n",
    "    if a%2==0:\n",
    "        print(\"Yes, number \"+ str(a) + \" is even.\")\n",
    "    else:\n",
    "        print(\"No, number \" + str(a) + \" is not even.\")"
   ]
  },
  {
   "cell_type": "code",
   "execution_count": 34,
   "metadata": {},
   "outputs": [
    {
     "name": "stdout",
     "output_type": "stream",
     "text": [
      "Yes, number 654 is even.\n"
     ]
    }
   ],
   "source": [
    "funct_even(654)"
   ]
  },
  {
   "cell_type": "code",
   "execution_count": 52,
   "metadata": {},
   "outputs": [],
   "source": [
    "import math\n",
    "def primes(a,b):\n",
    "    c = a/b\n",
    "    if c == 1 or math.ceil(c) = :\n",
    "        print(\"Yes, this is prime number\")\n",
    "    \n",
    "                \n",
    "\n",
    "            \n"
   ]
  },
  {
   "cell_type": "code",
   "execution_count": 53,
   "metadata": {},
   "outputs": [
    {
     "name": "stdout",
     "output_type": "stream",
     "text": [
      "6.5\n",
      "4.333333333333333\n",
      "3.25\n",
      "2.6\n",
      "2.1666666666666665\n",
      "1.8571428571428572\n",
      "1.625\n",
      "1.4444444444444444\n",
      "1.3\n",
      "1.1818181818181819\n",
      "1.0833333333333333\n"
     ]
    }
   ],
   "source": [
    "primes(13)\n",
    "        "
   ]
  },
  {
   "cell_type": "code",
   "execution_count": 51,
   "metadata": {},
   "outputs": [
    {
     "data": {
      "text/plain": [
       "1.0"
      ]
     },
     "execution_count": 51,
     "metadata": {},
     "output_type": "execute_result"
    }
   ],
   "source": [
    "2/2"
   ]
  }
 ],
 "metadata": {
  "kernelspec": {
   "display_name": "Python 3",
   "language": "python",
   "name": "python3"
  },
  "language_info": {
   "codemirror_mode": {
    "name": "ipython",
    "version": 3
   },
   "file_extension": ".py",
   "mimetype": "text/x-python",
   "name": "python",
   "nbconvert_exporter": "python",
   "pygments_lexer": "ipython3",
   "version": "3.7.3"
  }
 },
 "nbformat": 4,
 "nbformat_minor": 2
}
