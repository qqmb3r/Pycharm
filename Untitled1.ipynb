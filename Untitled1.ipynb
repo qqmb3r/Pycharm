{
 "cells": [
  {
   "cell_type": "code",
   "execution_count": 6,
   "metadata": {},
   "outputs": [
    {
     "name": "stdout",
     "output_type": "stream",
     "text": [
      "Hello\n",
      "Hello\n",
      "\n",
      "Hello\n",
      "Python\n",
      "rocks\n"
     ]
    }
   ],
   "source": [
    "d = {\"k1\":'Hello', 'k2':'World'}\n",
    "print(d[\"k1\"])\n",
    "print(d.get('k1'))\n",
    "d['k2']='Python'\n",
    "d['k3']= \"rocks\"\n",
    "print()\n",
    "for i in d.keys():\n",
    "    print(d.get(i))"
   ]
  },
  {
   "cell_type": "code",
   "execution_count": 7,
   "metadata": {},
   "outputs": [
    {
     "name": "stdout",
     "output_type": "stream",
     "text": [
      "dasdasd\n",
      "\n",
      "asdasda\n"
     ]
    }
   ],
   "source": [
    "f = 't.txt'\n",
    "with open(f, 'r') as infile: # 'r' == read\n",
    "    line = infile.readline()\n",
    "    while line:\n",
    "        print(line)\n",
    "        line = infile.readline()"
   ]
  },
  {
   "cell_type": "code",
   "execution_count": 11,
   "metadata": {},
   "outputs": [],
   "source": [
    "f = 'out.txt'\n",
    "with open(f, \"w\") as outfile:\n",
    "    outfile.write('Hello\\n')\n",
    "    outfile.write('Python!')"
   ]
  },
  {
   "cell_type": "code",
   "execution_count": 12,
   "metadata": {},
   "outputs": [],
   "source": [
    "f = 'out_bin.txt'\n",
    "with open(f, \"wb\") as outfile:\n",
    "    outfile.write('Hello\\n'.encode('utf-8'))\n",
    "    outfile.write('Python!'.encode('utf-8'))"
   ]
  },
  {
   "cell_type": "code",
   "execution_count": 13,
   "metadata": {},
   "outputs": [],
   "source": [
    "import _pickle\n",
    "f = 'out_pickle.txt'\n",
    "with open(f, \"wb\") as outfile:\n",
    "    _pickle.dump(d, outfile)"
   ]
  },
  {
   "cell_type": "code",
   "execution_count": 14,
   "metadata": {},
   "outputs": [
    {
     "name": "stdout",
     "output_type": "stream",
     "text": [
      "{'k1': 'Hello', 'k2': 'Python', 'k3': 'rocks'}\n"
     ]
    }
   ],
   "source": [
    "with open(f, 'rb') as infile:\n",
    "    out_D = _pickle.load(infile)\n",
    "    print(out_D)"
   ]
  }
 ],
 "metadata": {
  "kernelspec": {
   "display_name": "Python 3",
   "language": "python",
   "name": "python3"
  },
  "language_info": {
   "codemirror_mode": {
    "name": "ipython",
    "version": 3
   },
   "file_extension": ".py",
   "mimetype": "text/x-python",
   "name": "python",
   "nbconvert_exporter": "python",
   "pygments_lexer": "ipython3",
   "version": "3.7.3"
  }
 },
 "nbformat": 4,
 "nbformat_minor": 2
}
