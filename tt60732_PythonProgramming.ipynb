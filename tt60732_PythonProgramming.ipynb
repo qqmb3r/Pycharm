{
 "cells": [
  {
   "cell_type": "code",
   "execution_count": 41,
   "metadata": {},
   "outputs": [],
   "source": [
    "def primes(number):\n",
    "    if isinstance(number, int) == False:\n",
    "        print(\"This is not an integer, please set another number!\")\n",
    "        return\n",
    "    if number > 1:\n",
    "        for i in range(2,number):\n",
    "                if (number % i) == 0:\n",
    "                    print(\"Number \" + str(number) + \" is a prime number\")\n",
    "                else:\n",
    "                     print(\"Number \" + str(number) + \" is not a prime number\")\n",
    "                break\n",
    "    else:\n",
    "        print(str(number) + \" is not a prime number\")"
   ]
  },
  {
   "cell_type": "code",
   "execution_count": 45,
   "metadata": {},
   "outputs": [
    {
     "name": "stdout",
     "output_type": "stream",
     "text": [
      "Number 1738127837183718131231 is not a prime number\n"
     ]
    }
   ],
   "source": [
    "primes(1738127837183718131231)"
   ]
  },
  {
   "cell_type": "raw",
   "metadata": {},
   "source": []
  }
 ],
 "metadata": {
  "kernelspec": {
   "display_name": "Python 3",
   "language": "python",
   "name": "python3"
  },
  "language_info": {
   "codemirror_mode": {
    "name": "ipython",
    "version": 3
   },
   "file_extension": ".py",
   "mimetype": "text/x-python",
   "name": "python",
   "nbconvert_exporter": "python",
   "pygments_lexer": "ipython3",
   "version": "3.7.3"
  }
 },
 "nbformat": 4,
 "nbformat_minor": 2
}
